





# 1
ans = []
for i in range(3):
    for j in range(4):
        ans.append((i, j))
print (ans)


# 2
ans = map(lambda x: x*x, filter(lambda x: x%2 == 0, range(5)))
print (list(ans))





ans2=[(i,j) for i in range(3) for j in range(4)]
print(ans2)


#Por revisar el 2
#ans = [map(lambda x: x*x, filter(lambda x: x%2 == 0, range(5)))]
#print(ans)






x = 5
def f(alist):
    for i in range(x):
         alist.append(i)
    return alist

alist = [1,2,3]
ans = f(alist)
print (ans)
print (alist) # alist has been changed!



    



alist=[1,2,3]
def pura(alist,x):
    lista=alist.copy()
    for i in range(x):
        lista.append(i)
    return lista
print(pura(alist,5))
print(alist)





def hello(func):
    def wrap(*args):
        print("Hello baby")
        func(*args)
        print("Funcion de funcion")
    return wrap

@hello
def square(x):
    return print(x**2)

print(square(3))






import numpy as np
def fact_rec(x):
    b=1
    for i in range(1,x+1):
        b*=i
    return print(b)
fact_rec(10)

def fact_no_r(x):
    print(np.math.factorial(x))
fact_no_r(10)





densities = {"Al":[0.5,1,2],"Fe":[3,4,5],"Pb": [15,20,30]}
radii = [1,2,3]
#d=m/v

#print((lambda r: np.math.pi*(r**2))(3))
#print(densities.values())

for a,b,c,d in zip(radii,densities['Al'],densities['Fe'],densities['Pb']):
    print (a,b,c,d)


print
print('This is the lambda function for the circunference, area and volume for a given radius',
      '\n',(lambda r: [np.math.pi*(r**2) ,2*np.math.pi*r, (4/3)*np.math.pi*r**3 ])(3))







